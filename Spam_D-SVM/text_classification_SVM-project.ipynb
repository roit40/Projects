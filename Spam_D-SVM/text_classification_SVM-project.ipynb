{
 "cells": [
  {
   "cell_type": "code",
   "execution_count": 38,
   "metadata": {
    "_cell_guid": "79c7e3d0-c299-4dcb-8224-4455121ee9b0",
    "_uuid": "d629ff2d2480ee46fbb7e2d37f6b5fab8052498a",
    "colab": {
     "base_uri": "https://localhost:8080/"
    },
    "id": "RVX6268RlJ9g",
    "outputId": "93dd2c4c-43ec-45b0-8f6b-65246efc20a0"
   },
   "outputs": [
    {
     "name": "stderr",
     "output_type": "stream",
     "text": [
      "[nltk_data] Downloading package stopwords to\n",
      "[nltk_data]     C:\\Users\\vs\\AppData\\Roaming\\nltk_data...\n",
      "[nltk_data]   Package stopwords is already up-to-date!\n"
     ]
    },
    {
     "data": {
      "text/plain": [
       "True"
      ]
     },
     "execution_count": 38,
     "metadata": {},
     "output_type": "execute_result"
    }
   ],
   "source": [
    "import numpy as np\n",
    "import pandas as pd\n",
    "import matplotlib.pyplot as plt\n",
    "import seaborn as sns\n",
    "%matplotlib inline\n",
    "plt.style.use('seaborn-deep')\n",
    "from sklearn.metrics import confusion_matrix\n",
    "import nltk\n",
    "nltk.download('stopwords')"
   ]
  },
  {
   "cell_type": "markdown",
   "metadata": {
    "id": "in7CBKxJlJ9j"
   },
   "source": [
    "**Check out the Data**"
   ]
  },
  {
   "cell_type": "code",
   "execution_count": 39,
   "metadata": {
    "colab": {
     "base_uri": "https://localhost:8080/",
     "height": 206
    },
    "id": "mtKmXRl0lJ9k",
    "outputId": "72c72c13-b684-4267-e3bc-7a43c46bd58d"
   },
   "outputs": [
    {
     "data": {
      "text/html": [
       "<div>\n",
       "<style scoped>\n",
       "    .dataframe tbody tr th:only-of-type {\n",
       "        vertical-align: middle;\n",
       "    }\n",
       "\n",
       "    .dataframe tbody tr th {\n",
       "        vertical-align: top;\n",
       "    }\n",
       "\n",
       "    .dataframe thead th {\n",
       "        text-align: right;\n",
       "    }\n",
       "</style>\n",
       "<table border=\"1\" class=\"dataframe\">\n",
       "  <thead>\n",
       "    <tr style=\"text-align: right;\">\n",
       "      <th></th>\n",
       "      <th>Category</th>\n",
       "      <th>Message</th>\n",
       "    </tr>\n",
       "  </thead>\n",
       "  <tbody>\n",
       "    <tr>\n",
       "      <th>0</th>\n",
       "      <td>ham</td>\n",
       "      <td>Go until jurong point, crazy.. Available only ...</td>\n",
       "    </tr>\n",
       "    <tr>\n",
       "      <th>1</th>\n",
       "      <td>ham</td>\n",
       "      <td>Ok lar... Joking wif u oni...</td>\n",
       "    </tr>\n",
       "    <tr>\n",
       "      <th>2</th>\n",
       "      <td>spam</td>\n",
       "      <td>Free entry in 2 a wkly comp to win FA Cup fina...</td>\n",
       "    </tr>\n",
       "    <tr>\n",
       "      <th>3</th>\n",
       "      <td>ham</td>\n",
       "      <td>U dun say so early hor... U c already then say...</td>\n",
       "    </tr>\n",
       "    <tr>\n",
       "      <th>4</th>\n",
       "      <td>ham</td>\n",
       "      <td>Nah I don't think he goes to usf, he lives aro...</td>\n",
       "    </tr>\n",
       "  </tbody>\n",
       "</table>\n",
       "</div>"
      ],
      "text/plain": [
       "  Category                                            Message\n",
       "0      ham  Go until jurong point, crazy.. Available only ...\n",
       "1      ham                      Ok lar... Joking wif u oni...\n",
       "2     spam  Free entry in 2 a wkly comp to win FA Cup fina...\n",
       "3      ham  U dun say so early hor... U c already then say...\n",
       "4      ham  Nah I don't think he goes to usf, he lives aro..."
      ]
     },
     "execution_count": 39,
     "metadata": {},
     "output_type": "execute_result"
    }
   ],
   "source": [
    "df = pd.read_csv('SPAM text message 20170820 - Data.csv')\n",
    "df.head()"
   ]
  },
  {
   "cell_type": "code",
   "execution_count": 40,
   "metadata": {
    "colab": {
     "base_uri": "https://localhost:8080/"
    },
    "id": "3qrFtV5slJ9k",
    "outputId": "6c26a1b0-9a31-42bb-e4cb-a3229fd41af4"
   },
   "outputs": [
    {
     "name": "stdout",
     "output_type": "stream",
     "text": [
      "<class 'pandas.core.frame.DataFrame'>\n",
      "RangeIndex: 5572 entries, 0 to 5571\n",
      "Data columns (total 2 columns):\n",
      " #   Column    Non-Null Count  Dtype \n",
      "---  ------    --------------  ----- \n",
      " 0   Category  5572 non-null   object\n",
      " 1   Message   5572 non-null   object\n",
      "dtypes: object(2)\n",
      "memory usage: 87.2+ KB\n"
     ]
    }
   ],
   "source": [
    "df.info()"
   ]
  },
  {
   "cell_type": "markdown",
   "metadata": {
    "id": "OI9znHNvlJ9k"
   },
   "source": [
    "# **Exploratory Data Analysis**"
   ]
  },
  {
   "cell_type": "markdown",
   "metadata": {
    "id": "4QSgtXHFlJ9l"
   },
   "source": [
    "Let's use groupby to use describe by Category, this way we can begin to think about the features that separate ham and spam!"
   ]
  },
  {
   "cell_type": "code",
   "execution_count": 41,
   "metadata": {
    "colab": {
     "base_uri": "https://localhost:8080/",
     "height": 175
    },
    "id": "qyWenaZzlJ9l",
    "outputId": "44b920dd-131d-444f-cdc9-ad452da0f88b"
   },
   "outputs": [
    {
     "data": {
      "text/html": [
       "<div>\n",
       "<style scoped>\n",
       "    .dataframe tbody tr th:only-of-type {\n",
       "        vertical-align: middle;\n",
       "    }\n",
       "\n",
       "    .dataframe tbody tr th {\n",
       "        vertical-align: top;\n",
       "    }\n",
       "\n",
       "    .dataframe thead tr th {\n",
       "        text-align: left;\n",
       "    }\n",
       "\n",
       "    .dataframe thead tr:last-of-type th {\n",
       "        text-align: right;\n",
       "    }\n",
       "</style>\n",
       "<table border=\"1\" class=\"dataframe\">\n",
       "  <thead>\n",
       "    <tr>\n",
       "      <th></th>\n",
       "      <th colspan=\"4\" halign=\"left\">Message</th>\n",
       "    </tr>\n",
       "    <tr>\n",
       "      <th></th>\n",
       "      <th>count</th>\n",
       "      <th>unique</th>\n",
       "      <th>top</th>\n",
       "      <th>freq</th>\n",
       "    </tr>\n",
       "    <tr>\n",
       "      <th>Category</th>\n",
       "      <th></th>\n",
       "      <th></th>\n",
       "      <th></th>\n",
       "      <th></th>\n",
       "    </tr>\n",
       "  </thead>\n",
       "  <tbody>\n",
       "    <tr>\n",
       "      <th>ham</th>\n",
       "      <td>4825</td>\n",
       "      <td>4516</td>\n",
       "      <td>Sorry, I'll call later</td>\n",
       "      <td>30</td>\n",
       "    </tr>\n",
       "    <tr>\n",
       "      <th>spam</th>\n",
       "      <td>747</td>\n",
       "      <td>641</td>\n",
       "      <td>Please call our customer service representativ...</td>\n",
       "      <td>4</td>\n",
       "    </tr>\n",
       "  </tbody>\n",
       "</table>\n",
       "</div>"
      ],
      "text/plain": [
       "         Message                                                            \\\n",
       "           count unique                                                top   \n",
       "Category                                                                     \n",
       "ham         4825   4516                             Sorry, I'll call later   \n",
       "spam         747    641  Please call our customer service representativ...   \n",
       "\n",
       "               \n",
       "         freq  \n",
       "Category       \n",
       "ham        30  \n",
       "spam        4  "
      ]
     },
     "execution_count": 41,
     "metadata": {},
     "output_type": "execute_result"
    }
   ],
   "source": [
    "df.groupby('Category').describe()"
   ]
  },
  {
   "cell_type": "markdown",
   "metadata": {
    "id": "ZdHxQVvylJ9l"
   },
   "source": [
    "Let's make a new column to detect how long the text messages are"
   ]
  },
  {
   "cell_type": "code",
   "execution_count": 42,
   "metadata": {
    "colab": {
     "base_uri": "https://localhost:8080/",
     "height": 206
    },
    "id": "56unpDNmlJ9l",
    "outputId": "3e895b8e-c8e5-4683-deec-7e65e3fe8317"
   },
   "outputs": [
    {
     "data": {
      "text/html": [
       "<div>\n",
       "<style scoped>\n",
       "    .dataframe tbody tr th:only-of-type {\n",
       "        vertical-align: middle;\n",
       "    }\n",
       "\n",
       "    .dataframe tbody tr th {\n",
       "        vertical-align: top;\n",
       "    }\n",
       "\n",
       "    .dataframe thead th {\n",
       "        text-align: right;\n",
       "    }\n",
       "</style>\n",
       "<table border=\"1\" class=\"dataframe\">\n",
       "  <thead>\n",
       "    <tr style=\"text-align: right;\">\n",
       "      <th></th>\n",
       "      <th>Category</th>\n",
       "      <th>Message</th>\n",
       "      <th>Length</th>\n",
       "    </tr>\n",
       "  </thead>\n",
       "  <tbody>\n",
       "    <tr>\n",
       "      <th>0</th>\n",
       "      <td>ham</td>\n",
       "      <td>Go until jurong point, crazy.. Available only ...</td>\n",
       "      <td>111</td>\n",
       "    </tr>\n",
       "    <tr>\n",
       "      <th>1</th>\n",
       "      <td>ham</td>\n",
       "      <td>Ok lar... Joking wif u oni...</td>\n",
       "      <td>29</td>\n",
       "    </tr>\n",
       "    <tr>\n",
       "      <th>2</th>\n",
       "      <td>spam</td>\n",
       "      <td>Free entry in 2 a wkly comp to win FA Cup fina...</td>\n",
       "      <td>155</td>\n",
       "    </tr>\n",
       "    <tr>\n",
       "      <th>3</th>\n",
       "      <td>ham</td>\n",
       "      <td>U dun say so early hor... U c already then say...</td>\n",
       "      <td>49</td>\n",
       "    </tr>\n",
       "    <tr>\n",
       "      <th>4</th>\n",
       "      <td>ham</td>\n",
       "      <td>Nah I don't think he goes to usf, he lives aro...</td>\n",
       "      <td>61</td>\n",
       "    </tr>\n",
       "  </tbody>\n",
       "</table>\n",
       "</div>"
      ],
      "text/plain": [
       "  Category                                            Message  Length\n",
       "0      ham  Go until jurong point, crazy.. Available only ...     111\n",
       "1      ham                      Ok lar... Joking wif u oni...      29\n",
       "2     spam  Free entry in 2 a wkly comp to win FA Cup fina...     155\n",
       "3      ham  U dun say so early hor... U c already then say...      49\n",
       "4      ham  Nah I don't think he goes to usf, he lives aro...      61"
      ]
     },
     "execution_count": 42,
     "metadata": {},
     "output_type": "execute_result"
    }
   ],
   "source": [
    "df['Length'] = df['Message'].apply(len)\n",
    "df.head()"
   ]
  },
  {
   "cell_type": "markdown",
   "metadata": {
    "id": "kSVpWsi-lJ9m"
   },
   "source": [
    "Let's see the percentage of ham and spam in our dataset"
   ]
  },
  {
   "cell_type": "code",
   "execution_count": 43,
   "metadata": {
    "colab": {
     "base_uri": "https://localhost:8080/",
     "height": 513
    },
    "id": "Gk1sqldVlJ9m",
    "outputId": "319f9b97-f1a4-407d-b407-ecd98dc07fad"
   },
   "outputs": [
    {
     "data": {
      "image/png": "[encoded data removed]",
      "text/plain": [
       "<Figure size 1200x700 with 1 Axes>"
      ]
     },
     "metadata": {},
     "output_type": "display_data"
    }
   ],
   "source": [
    "explode = (0.1,0)  \n",
    "fig1, ax1 = plt.subplots(figsize=(12,7))\n",
    "ax1.pie(df['Category'].value_counts(), explode=explode,labels=['ham','spam'], autopct='%1.1f%%',\n",
    "        shadow=True)\n",
    "# Equal aspect ratio ensures that pie is drawn as a circle\n",
    "ax1.axis('equal')  \n",
    "plt.tight_layout()\n",
    "plt.legend()\n",
    "plt.show()"
   ]
  },
  {
   "cell_type": "code",
   "execution_count": 44,
   "metadata": {
    "colab": {
     "base_uri": "https://localhost:8080/",
     "height": 391
    },
    "id": "ONExyfN_lJ9m",
    "outputId": "b467fa92-c6de-4ab6-a571-84ae3184aacc"
   },
   "outputs": [
    {
     "data": {
      "text/plain": [
       "<AxesSubplot:ylabel='Frequency'>"
      ]
     },
     "execution_count": 44,
     "metadata": {},
     "output_type": "execute_result"
    },
    {
     "data": {
      "image/png": "[encoded data removed]",
      "text/plain": [
       "<Figure size 1000x600 with 1 Axes>"
      ]
     },
     "metadata": {},
     "output_type": "display_data"
    }
   ],
   "source": [
    "plt.figure(figsize=(10,6))\n",
    "df['Length'].plot.hist(bins = 150)"
   ]
  },
  {
   "cell_type": "code",
   "execution_count": 45,
   "metadata": {
    "colab": {
     "base_uri": "https://localhost:8080/"
    },
    "id": "3nQNjgiclJ9n",
    "outputId": "b17a0286-59e3-478c-de7b-1416a664eb0f"
   },
   "outputs": [
    {
     "data": {
      "text/plain": [
       "count    5572.000000\n",
       "mean       80.368988\n",
       "std        59.926946\n",
       "min         2.000000\n",
       "25%        35.750000\n",
       "50%        61.000000\n",
       "75%       122.000000\n",
       "max       910.000000\n",
       "Name: Length, dtype: float64"
      ]
     },
     "execution_count": 45,
     "metadata": {},
     "output_type": "execute_result"
    }
   ],
   "source": [
    "df['Length'].describe()"
   ]
  },
  {
   "cell_type": "markdown",
   "metadata": {
    "id": "x26fjBBwlJ9n"
   },
   "source": [
    "One of the text has 910 characters, let's use masking to find this message:"
   ]
  },
  {
   "cell_type": "code",
   "execution_count": 46,
   "metadata": {
    "colab": {
     "base_uri": "https://localhost:8080/",
     "height": 140
    },
    "id": "9PdOEvLllJ9n",
    "outputId": "82e4313d-2743-4fea-c972-789e97aba3c7"
   },
   "outputs": [
    {
     "data": {
      "text/plain": [
       "\"For me the love should start with attraction.i should feel that I need her every time around me.she should be the first thing which comes in my thoughts.I would start the day and end it with her.she should be there every time I dream.love will be then when my every breath has her name.my life should happen around her.my life will be named to her.I would cry for her.will give all my happiness and take all her sorrows.I will be ready to fight with anyone for her.I will be in love when I will be doing the craziest things for her.love will be when I don't have to proove anyone that my girl is the most beautiful lady on the whole planet.I will always be singing praises for her.love will be when I start up making chicken curry and end up makiing sambar.life will be the most beautiful then.will get every morning and thank god for the day because she is with me.I would like to say a lot..will tell later..\""
      ]
     },
     "execution_count": 46,
     "metadata": {},
     "output_type": "execute_result"
    }
   ],
   "source": [
    "df[df['Length'] == 910][\"Message\"].iloc[0]"
   ]
  },
  {
   "cell_type": "markdown",
   "metadata": {
    "id": "AwqqkNbklJ9n"
   },
   "source": [
    "# **Text Cleaning**"
   ]
  },
  {
   "cell_type": "markdown",
   "metadata": {
    "id": "yBqjJxTllJ9n"
   },
   "source": [
    "Let’s clean the text for the messages in our dataset with NLP."
   ]
  },
  {
   "cell_type": "code",
   "execution_count": 47,
   "metadata": {
    "id": "K4oGdaq6lJ9n"
   },
   "outputs": [],
   "source": [
    "import string\n",
    "from nltk.corpus import stopwords"
   ]
  },
  {
   "cell_type": "markdown",
   "metadata": {
    "id": "vJIOXgeAlJ9o"
   },
   "source": [
    "Let's create the function to remove all punctuation, remove all stopwords and returns a list of the cleaned text "
   ]
  },
  {
   "cell_type": "code",
   "execution_count": 48,
   "metadata": {
    "id": "ZTdnkVbAlJ9o"
   },
   "outputs": [],
   "source": [
    "def text_process(mess):\n",
    "    \"\"\"\n",
    "    Takes in a string of text, then performs the following:\n",
    "    1. Remove all punctuation\n",
    "    2. Remove all stopwords\n",
    "    3. Returns a list of the cleaned text\n",
    "    \"\"\"\n",
    "   \n",
    "    # Check characters to see if they are in punctuation\n",
    "    nopunc = [char for char in mess if char not in string.punctuation]\n",
    "    \n",
    "    \n",
    "    # Join the characters again to form the string.\n",
    "    nopunc = ''.join(nopunc)\n",
    "    \n",
    "    \n",
    "    # Now just remove any stopwords\n",
    "    return [word for word in nopunc.split() if word.lower() not in stopwords.words('english')]\n"
   ]
  },
  {
   "cell_type": "markdown",
   "metadata": {
    "id": "8i5vHhUvlJ9o"
   },
   "source": [
    "Check to make sure its working"
   ]
  },
  {
   "cell_type": "code",
   "execution_count": 49,
   "metadata": {
    "colab": {
     "base_uri": "https://localhost:8080/"
    },
    "id": "rD0r61rKlJ9o",
    "outputId": "cb3d7f7c-2498-4cf3-cf1f-42b2ba2b0d4f"
   },
   "outputs": [
    {
     "data": {
      "text/plain": [
       "0       [Go, jurong, point, crazy, Available, bugis, n...\n",
       "1                          [Ok, lar, Joking, wif, u, oni]\n",
       "2       [Free, entry, 2, wkly, comp, win, FA, Cup, fin...\n",
       "3           [U, dun, say, early, hor, U, c, already, say]\n",
       "4       [Nah, dont, think, goes, usf, lives, around, t...\n",
       "                              ...                        \n",
       "5567    [2nd, time, tried, 2, contact, u, U, £750, Pou...\n",
       "5568                   [ü, b, going, esplanade, fr, home]\n",
       "5569                     [Pity, mood, Soany, suggestions]\n",
       "5570    [guy, bitching, acted, like, id, interested, b...\n",
       "5571                                   [Rofl, true, name]\n",
       "Name: Message, Length: 5572, dtype: object"
      ]
     },
     "execution_count": 49,
     "metadata": {},
     "output_type": "execute_result"
    }
   ],
   "source": [
    "df['Message'].apply(text_process)"
   ]
  },
  {
   "cell_type": "markdown",
   "metadata": {
    "id": "k05L66PMlJ9o"
   },
   "source": [
    "**Vectorization**"
   ]
  },
  {
   "cell_type": "markdown",
   "metadata": {
    "id": "-1B7AGdklJ9o"
   },
   "source": [
    "Now we have the messages as lists and we need to convert each of those messages into a vector that SciKit Learn's algorithm models can work with."
   ]
  },
  {
   "cell_type": "code",
   "execution_count": 50,
   "metadata": {
    "id": "dxsamQjflJ9p"
   },
   "outputs": [],
   "source": [
    "from sklearn.feature_extraction.text import CountVectorizer \n",
    "bow_transformer = CountVectorizer(analyzer=text_process).fit(df['Message'])\n"
   ]
  },
  {
   "cell_type": "markdown",
   "metadata": {
    "id": "MZhWFSPylJ9p"
   },
   "source": [
    "Print total number of vocab words"
   ]
  },
  {
   "cell_type": "code",
   "execution_count": 51,
   "metadata": {
    "colab": {
     "base_uri": "https://localhost:8080/"
    },
    "id": "-HN8DfTdlJ9p",
    "outputId": "ed197c65-7fd3-4f63-d462-d6499bb7eed1"
   },
   "outputs": [
    {
     "name": "stdout",
     "output_type": "stream",
     "text": [
      "11422\n"
     ]
    },
    {
     "data": {
      "text/plain": [
       "{'Go': 2058,\n",
       " 'jurong': 7552,\n",
       " 'point': 8914,\n",
       " 'crazy': 5766,\n",
       " 'Available': 1107,\n",
       " 'bugis': 5215,\n",
       " 'n': 8333,\n",
       " 'great': 6934,\n",
       " 'world': 11160,\n",
       " 'la': 7665,\n",
       " 'e': 6214,\n",
       " 'buffet': 5214,\n",
       " 'Cine': 1480,\n",
       " 'got': 6903,\n",
       " 'amore': 4651,\n",
       " 'wat': 10962,\n",
       " 'Ok': 3062,\n",
       " 'lar': 7698,\n",
       " 'Joking': 2449,\n",
       " 'wif': 11069,\n",
       " 'u': 10695,\n",
       " 'oni': 8587,\n",
       " 'Free': 1939,\n",
       " 'entry': 6328,\n",
       " '2': 421,\n",
       " 'wkly': 11120,\n",
       " 'comp': 5616,\n",
       " 'win': 11081,\n",
       " 'FA': 1831,\n",
       " 'Cup': 1548,\n",
       " 'final': 6554,\n",
       " 'tkts': 10509,\n",
       " '21st': 441,\n",
       " 'May': 2802,\n",
       " '2005': 428,\n",
       " 'Text': 3951,\n",
       " '87121': 868,\n",
       " 'receive': 9249,\n",
       " 'questionstd': 9156,\n",
       " 'txt': 10683,\n",
       " 'rateTCs': 9197,\n",
       " 'apply': 4729,\n",
       " '08452810075over18s': 73,\n",
       " 'U': 4066,\n",
       " 'dun': 6201,\n",
       " 'say': 9551,\n",
       " 'early': 6219,\n",
       " 'hor': 7183,\n",
       " 'c': 5258,\n",
       " 'already': 4627,\n",
       " 'Nah': 2946,\n",
       " 'dont': 6120,\n",
       " 'think': 10430,\n",
       " 'goes': 6874,\n",
       " 'usf': 10796,\n",
       " 'lives': 7839,\n",
       " 'around': 4775,\n",
       " 'though': 10447,\n",
       " 'FreeMsg': 1941,\n",
       " 'Hey': 2220,\n",
       " 'darling': 5861,\n",
       " '3': 541,\n",
       " 'weeks': 11008,\n",
       " 'word': 11147,\n",
       " 'back': 4890,\n",
       " 'Id': 2344,\n",
       " 'like': 7797,\n",
       " 'fun': 6752,\n",
       " 'still': 10090,\n",
       " 'Tb': 3928,\n",
       " 'ok': 8564,\n",
       " 'XxX': 4377,\n",
       " 'std': 10070,\n",
       " 'chgs': 5464,\n",
       " 'send': 9638,\n",
       " '£150': 11368,\n",
       " 'rcv': 9206,\n",
       " 'Even': 1800,\n",
       " 'brother': 5190,\n",
       " 'speak': 9968,\n",
       " 'treat': 10626,\n",
       " 'aids': 4588,\n",
       " 'patent': 8758,\n",
       " 'per': 8793,\n",
       " 'request': 9353,\n",
       " 'Melle': 2812,\n",
       " 'Oru': 3096,\n",
       " 'Minnaminunginte': 2831,\n",
       " 'Nurungu': 3021,\n",
       " 'Vettam': 4168,\n",
       " 'set': 9661,\n",
       " 'callertune': 5289,\n",
       " 'Callers': 1418,\n",
       " 'Press': 3276,\n",
       " '9': 906,\n",
       " 'copy': 5713,\n",
       " 'friends': 6716,\n",
       " 'Callertune': 1419,\n",
       " 'WINNER': 4219,\n",
       " 'valued': 10825,\n",
       " 'network': 8403,\n",
       " 'customer': 5817,\n",
       " 'selected': 9625,\n",
       " 'receivea': 9250,\n",
       " '£900': 11409,\n",
       " 'prize': 9055,\n",
       " 'reward': 9410,\n",
       " 'claim': 5516,\n",
       " 'call': 5272,\n",
       " '09061701461': 217,\n",
       " 'Claim': 1482,\n",
       " 'code': 5571,\n",
       " 'KL341': 2475,\n",
       " 'Valid': 4159,\n",
       " '12': 324,\n",
       " 'hours': 7198,\n",
       " 'mobile': 8213,\n",
       " '11': 313,\n",
       " 'months': 8248,\n",
       " 'R': 3319,\n",
       " 'entitled': 6325,\n",
       " 'Update': 4126,\n",
       " 'latest': 7713,\n",
       " 'colour': 5591,\n",
       " 'mobiles': 8214,\n",
       " 'camera': 5301,\n",
       " 'Call': 1414,\n",
       " 'Mobile': 2850,\n",
       " 'Co': 1489,\n",
       " 'FREE': 1863,\n",
       " '08002986030': 58,\n",
       " 'Im': 2350,\n",
       " 'gonna': 6887,\n",
       " 'home': 7156,\n",
       " 'soon': 9928,\n",
       " 'want': 10942,\n",
       " 'talk': 10300,\n",
       " 'stuff': 10150,\n",
       " 'anymore': 4699,\n",
       " 'tonight': 10554,\n",
       " 'k': 7558,\n",
       " 'Ive': 2392,\n",
       " 'cried': 5780,\n",
       " 'enough': 6316,\n",
       " 'today': 10521,\n",
       " 'SIX': 3493,\n",
       " 'chances': 5408,\n",
       " 'CASH': 1350,\n",
       " '100': 292,\n",
       " '20000': 425,\n",
       " 'pounds': 8972,\n",
       " 'CSH11': 1402,\n",
       " '87575': 872,\n",
       " 'Cost': 1521,\n",
       " '150pday': 362,\n",
       " '6days': 760,\n",
       " '16': 380,\n",
       " 'TsandCs': 4046,\n",
       " 'Reply': 3412,\n",
       " 'HL': 2137,\n",
       " '4': 603,\n",
       " 'info': 7351,\n",
       " 'URGENT': 4088,\n",
       " '1': 290,\n",
       " 'week': 11003,\n",
       " 'membership': 8107,\n",
       " '£100000': 11362,\n",
       " 'Prize': 3281,\n",
       " 'Jackpot': 2419,\n",
       " 'Txt': 4060,\n",
       " 'CLAIM': 1375,\n",
       " '81010': 818,\n",
       " 'TC': 3845,\n",
       " 'wwwdbuknet': 11228,\n",
       " 'LCCLTD': 2549,\n",
       " 'POBOX': 3136,\n",
       " '4403LDNW1A7RW18': 624,\n",
       " 'searching': 9594,\n",
       " 'right': 9419,\n",
       " 'words': 11151,\n",
       " 'thank': 10389,\n",
       " 'breather': 5163,\n",
       " 'promise': 9089,\n",
       " 'wont': 11142,\n",
       " 'take': 10292,\n",
       " 'help': 7086,\n",
       " 'granted': 6926,\n",
       " 'fulfil': 6748,\n",
       " 'wonderful': 11139,\n",
       " 'blessing': 5072,\n",
       " 'times': 10488,\n",
       " 'DATE': 1565,\n",
       " 'SUNDAY': 3565,\n",
       " 'XXXMobileMovieClub': 4368,\n",
       " 'use': 10790,\n",
       " 'credit': 5771,\n",
       " 'click': 5537,\n",
       " 'WAP': 4198,\n",
       " 'link': 7815,\n",
       " 'next': 8417,\n",
       " 'message': 8130,\n",
       " 'httpwap': 7221,\n",
       " 'xxxmobilemovieclubcomnQJKGIGHJJGCBL': 11270,\n",
       " 'Oh': 3057,\n",
       " 'kim': 7615,\n",
       " 'watching': 10967,\n",
       " 'Eh': 1767,\n",
       " 'remember': 9316,\n",
       " 'spell': 9982,\n",
       " 'name': 8345,\n",
       " 'Yes': 4423,\n",
       " 'v': 10813,\n",
       " 'naughty': 8365,\n",
       " 'make': 7997,\n",
       " 'wet': 11037,\n",
       " 'Fine': 1912,\n",
       " 'that\\x92s': 10402,\n",
       " 'way': 10976,\n",
       " 'feel': 6514,\n",
       " 'That\\x92s': 3962,\n",
       " 'gota': 6904,\n",
       " 'b': 4878,\n",
       " 'England': 1782,\n",
       " 'Macedonia': 2770,\n",
       " 'miss': 8188,\n",
       " 'goalsteam': 6867,\n",
       " 'news': 8412,\n",
       " 'ur': 10774,\n",
       " 'national': 8359,\n",
       " 'team': 10335,\n",
       " '87077': 867,\n",
       " 'eg': 6255,\n",
       " 'ENGLAND': 1725,\n",
       " 'TryWALES': 4040,\n",
       " 'SCOTLAND': 3458,\n",
       " '4txtú120': 674,\n",
       " 'POBOXox36504W45WQ': 3139,\n",
       " 'seriously': 9655,\n",
       " 'I‘m': 2399,\n",
       " 'going': 6879,\n",
       " 'try': 10652,\n",
       " 'ha': 6989,\n",
       " 'joking': 7531,\n",
       " 'ü': 11415,\n",
       " 'pay': 8766,\n",
       " 'first': 6581,\n",
       " 'da': 5829,\n",
       " 'stock': 10094,\n",
       " 'comin': 5606,\n",
       " 'Aft': 1016,\n",
       " 'finish': 6567,\n",
       " 'lunch': 7944,\n",
       " 'go': 6861,\n",
       " 'str': 10114,\n",
       " 'lor': 7885,\n",
       " 'Ard': 1081,\n",
       " 'smth': 9878,\n",
       " 'Ffffffffff': 1903,\n",
       " 'Alright': 1050,\n",
       " 'meet': 8089,\n",
       " 'sooner': 9929,\n",
       " 'forced': 6652,\n",
       " 'eat': 6231,\n",
       " 'slice': 9833,\n",
       " 'really': 9231,\n",
       " 'hungry': 7246,\n",
       " 'tho': 10443,\n",
       " 'sucks': 10183,\n",
       " 'Mark': 2792,\n",
       " 'getting': 6829,\n",
       " 'worried': 11166,\n",
       " 'knows': 7640,\n",
       " 'sick': 9761,\n",
       " 'turn': 10669,\n",
       " 'pizza': 8866,\n",
       " 'Lol': 2646,\n",
       " 'always': 4639,\n",
       " 'convincing': 5700,\n",
       " 'catch': 5371,\n",
       " 'bus': 5234,\n",
       " 'frying': 6738,\n",
       " 'egg': 6257,\n",
       " 'tea': 10329,\n",
       " 'eating': 6234,\n",
       " 'moms': 8232,\n",
       " 'left': 7745,\n",
       " 'dinner': 6042,\n",
       " 'Love': 2659,\n",
       " 'amp': 4653,\n",
       " 'packing': 8690,\n",
       " 'car': 5328,\n",
       " 'Ill': 2348,\n",
       " 'let': 7766,\n",
       " 'know': 7636,\n",
       " 'theres': 10418,\n",
       " 'room': 9457,\n",
       " 'Ahhh': 1025,\n",
       " 'Work': 4343,\n",
       " 'vaguely': 10816,\n",
       " 'Wait': 4254,\n",
       " 'thats': 10401,\n",
       " 'clear': 5531,\n",
       " 'sure': 10234,\n",
       " 'sarcastic': 9533,\n",
       " 'x': 11257,\n",
       " 'doesnt': 6096,\n",
       " 'live': 7836,\n",
       " 'us': 10784,\n",
       " 'Yeah': 4414,\n",
       " 'apologetic': 4717,\n",
       " 'fallen': 6465,\n",
       " 'actin': 4507,\n",
       " 'spoilt': 10002,\n",
       " 'child': 5480,\n",
       " 'caught': 5375,\n",
       " 'Till': 3995,\n",
       " 'badly': 4895,\n",
       " 'cheers': 5447,\n",
       " 'K': 2466,\n",
       " 'tell': 10351,\n",
       " 'anything': 4705,\n",
       " 'fear': 6506,\n",
       " 'fainting': 6456,\n",
       " 'housework': 7202,\n",
       " 'Quick': 3314,\n",
       " 'cuppa': 5807,\n",
       " 'Thanks': 3956,\n",
       " 'subscription': 10173,\n",
       " 'Ringtone': 3422,\n",
       " 'UK': 4072,\n",
       " 'charged': 5420,\n",
       " '£5month': 11401,\n",
       " 'Please': 3233,\n",
       " 'confirm': 5658,\n",
       " 'replying': 9348,\n",
       " 'YES': 4386,\n",
       " 'reply': 9346,\n",
       " 'Yup': 4448,\n",
       " 'look': 7877,\n",
       " 'timings': 10494,\n",
       " 'msg': 8280,\n",
       " 'Xuhui': 4375,\n",
       " 'learn': 7734,\n",
       " '2nd': 524,\n",
       " 'may': 8062,\n",
       " 'lesson': 7764,\n",
       " '8am': 900,\n",
       " 'Oops': 3083,\n",
       " 'roommates': 9460,\n",
       " 'done': 6117,\n",
       " 'see': 9610,\n",
       " 'letter': 7768,\n",
       " 'B': 1117,\n",
       " 'Anything': 1067,\n",
       " 'decide': 5912,\n",
       " 'Hello': 2207,\n",
       " 'Hows': 2277,\n",
       " 'saturday': 9543,\n",
       " 'texting': 10380,\n",
       " 'youd': 11315,\n",
       " 'decided': 5913,\n",
       " 'tomo': 10543,\n",
       " 'im': 7304,\n",
       " 'trying': 10654,\n",
       " 'invite': 7407,\n",
       " 'Pls': 3235,\n",
       " 'ahead': 4580,\n",
       " 'watts': 10974,\n",
       " 'wanted': 10944,\n",
       " 'weekend': 11005,\n",
       " 'Abiola': 996,\n",
       " 'forget': 6658,\n",
       " 'need': 8383,\n",
       " 'crave': 5763,\n",
       " 'love': 7910,\n",
       " 'sweet': 10258,\n",
       " 'Arabian': 1079,\n",
       " 'steed': 10076,\n",
       " 'Mmmmmm': 2844,\n",
       " 'Yummy': 4445,\n",
       " '07732584351': 29,\n",
       " 'Rodger': 3428,\n",
       " 'Burns': 1326,\n",
       " 'MSG': 2755,\n",
       " 'tried': 10635,\n",
       " 'sms': 9873,\n",
       " 'free': 6696,\n",
       " 'nokia': 8452,\n",
       " 'camcorder': 5299,\n",
       " '08000930705': 54,\n",
       " 'delivery': 5947,\n",
       " 'tomorrow': 10546,\n",
       " 'SEEING': 3462,\n",
       " 'Great': 2086,\n",
       " 'hope': 7174,\n",
       " 'man': 8006,\n",
       " 'well': 11020,\n",
       " 'endowed': 6300,\n",
       " 'ltgt': 7936,\n",
       " 'inches': 7330,\n",
       " 'callsmessagesmissed': 5295,\n",
       " 'calls': 5294,\n",
       " 'Didnt': 1660,\n",
       " 'get': 6821,\n",
       " 'hep': 7095,\n",
       " 'immunisation': 7312,\n",
       " 'nigeria': 8424,\n",
       " 'Fair': 1891,\n",
       " 'hopefully': 7179,\n",
       " 'tyler': 10689,\n",
       " 'cant': 5317,\n",
       " 'could': 5735,\n",
       " 'maybe': 8064,\n",
       " 'ask': 4797,\n",
       " 'bit': 5050,\n",
       " 'stubborn': 10140,\n",
       " 'didnt': 6011,\n",
       " 'even': 6366,\n",
       " 'hospital': 7189,\n",
       " 'kept': 7591,\n",
       " 'telling': 10352,\n",
       " 'weak': 10980,\n",
       " 'sucker': 10181,\n",
       " 'Hospitals': 2269,\n",
       " 'suckers': 10182,\n",
       " 'thinked': 10432,\n",
       " 'First': 1916,\n",
       " 'time': 10484,\n",
       " 'saw': 9550,\n",
       " 'class': 5524,\n",
       " 'gram': 6920,\n",
       " 'usually': 10802,\n",
       " 'runs': 9492,\n",
       " 'half': 7001,\n",
       " 'eighth': 6264,\n",
       " 'smarter': 9855,\n",
       " 'gets': 6825,\n",
       " 'almost': 4623,\n",
       " 'whole': 11060,\n",
       " 'second': 9598,\n",
       " 'fyi': 6765,\n",
       " 'ride': 9418,\n",
       " 'morning': 8253,\n",
       " 'hes': 7106,\n",
       " 'crashing': 5762,\n",
       " 'place': 8867,\n",
       " 'Wow': 4350,\n",
       " 'never': 8407,\n",
       " 'realized': 9229,\n",
       " 'embarassed': 6284,\n",
       " 'accomodations': 4490,\n",
       " 'thought': 10448,\n",
       " 'liked': 7798,\n",
       " 'since': 9785,\n",
       " 'best': 5011,\n",
       " 'seemed': 9616,\n",
       " 'happy': 7032,\n",
       " 'cave': 5379,\n",
       " 'sorry': 9938,\n",
       " 'give': 6847,\n",
       " 'offered': 8544,\n",
       " 'embarassing': 6285,\n",
       " 'SMS': 3504,\n",
       " 'ac': 4476,\n",
       " 'Sptv': 3760,\n",
       " 'New': 2966,\n",
       " 'Jersey': 2439,\n",
       " 'Devils': 1654,\n",
       " 'Detroit': 1653,\n",
       " 'Red': 3392,\n",
       " 'Wings': 4320,\n",
       " 'play': 8881,\n",
       " 'Ice': 2342,\n",
       " 'Hockey': 2247,\n",
       " 'Correct': 1519,\n",
       " 'Incorrect': 2358,\n",
       " 'End': 1780,\n",
       " 'END': 1723,\n",
       " 'SPTV': 3536,\n",
       " 'Mallika': 2782,\n",
       " 'Sherawat': 3651,\n",
       " 'yesterday': 11296,\n",
       " 'Find': 1911,\n",
       " 'ltURLgt': 7935,\n",
       " 'Congrats': 1510,\n",
       " 'year': 11287,\n",
       " 'special': 9970,\n",
       " 'cinema': 5512,\n",
       " 'pass': 8747,\n",
       " '09061209465': 212,\n",
       " 'C': 1334,\n",
       " 'Suprman': 3819,\n",
       " 'V': 4143,\n",
       " 'Matrix3': 2799,\n",
       " 'StarWars3': 3769,\n",
       " 'etc': 6356,\n",
       " 'bx420ip45we': 5253,\n",
       " '150pm': 363,\n",
       " 'Dont': 1691,\n",
       " 'Sorry': 3733,\n",
       " 'later': 7711,\n",
       " 'meeting': 8091,\n",
       " 'Tell': 3940,\n",
       " 'reached': 9213,\n",
       " 'Yesgauti': 4426,\n",
       " 'sehwag': 9622,\n",
       " 'odi': 8538,\n",
       " 'series': 9653,\n",
       " 'pick': 8841,\n",
       " 'burger': 5226,\n",
       " 'move': 8267,\n",
       " 'Pain': 3178,\n",
       " 'killing': 7612,\n",
       " 'Ha': 2166,\n",
       " 'good': 6889,\n",
       " 'joke': 7526,\n",
       " 'Girls': 2053,\n",
       " 'situation': 9805,\n",
       " 'seekers': 9613,\n",
       " 'part': 8736,\n",
       " 'checking': 5444,\n",
       " 'IQ': 2327,\n",
       " 'took': 10563,\n",
       " 'forever': 6655,\n",
       " 'come': 5598,\n",
       " 'double': 6131,\n",
       " 'check': 5441,\n",
       " 'hair': 6998,\n",
       " 'dresser': 6159,\n",
       " 'said': 9509,\n",
       " 'wun': 11205,\n",
       " 'cut': 5820,\n",
       " 'short': 9727,\n",
       " 'nice': 8420,\n",
       " 'pleased': 8892,\n",
       " 'advise': 4545,\n",
       " 'following': 6636,\n",
       " 'recent': 9253,\n",
       " 'review': 9408,\n",
       " 'Mob': 2847,\n",
       " 'awarded': 4871,\n",
       " '£1500': 11369,\n",
       " 'Bonus': 1279,\n",
       " '09066364589': 261,\n",
       " 'Today': 4009,\n",
       " 'song': 9924,\n",
       " 'dedicated': 5922,\n",
       " 'day': 5878,\n",
       " 'dedicate': 5921,\n",
       " 'Send': 3621,\n",
       " 'valuable': 10822,\n",
       " 'frnds': 6725,\n",
       " 'rply': 9473,\n",
       " 'Urgent': 4133,\n",
       " 'UR': 4085,\n",
       " 'complimentary': 5633,\n",
       " 'trip': 10636,\n",
       " 'EuroDisinc': 1797,\n",
       " 'Trav': 4030,\n",
       " 'AcoEntry41': 1005,\n",
       " '£1000': 11360,\n",
       " 'DIS': 1584,\n",
       " '186£150moreFrmMob': 389,\n",
       " 'ShrAcomOrSglSuplt10': 3671,\n",
       " 'LS1': 2587,\n",
       " '3AJ': 574,\n",
       " 'hear': 7063,\n",
       " 'new': 8410,\n",
       " 'Divorce': 1676,\n",
       " 'Barbie': 1222,\n",
       " 'comes': 5602,\n",
       " 'Kens': 2495,\n",
       " 'plane': 8874,\n",
       " 'month': 8245,\n",
       " 'end': 6295,\n",
       " 'Wah': 4252,\n",
       " 'lucky': 7941,\n",
       " 'save': 9546,\n",
       " 'money': 8238,\n",
       " 'Hee': 2201,\n",
       " 'Finished': 1915,\n",
       " 'HI': 2133,\n",
       " 'BABE': 1121,\n",
       " 'IM': 2306,\n",
       " 'HOME': 2143,\n",
       " 'WANNA': 4195,\n",
       " 'SOMETHING': 3513,\n",
       " 'XX': 4365,\n",
       " 'Kkwhere': 2525,\n",
       " 'youhow': 11318,\n",
       " 'performed': 8800,\n",
       " 'waiting': 10921,\n",
       " 'machan': 7966,\n",
       " 'Thats': 3961,\n",
       " 'cool': 5706,\n",
       " 'gentleman': 6815,\n",
       " 'dignity': 6033,\n",
       " 'respect': 9374,\n",
       " 'peoples': 8792,\n",
       " 'much': 8296,\n",
       " 'shy': 9757,\n",
       " 'pa': 8685,\n",
       " 'operate': 8603,\n",
       " 'Still': 3781,\n",
       " 'looking': 7880,\n",
       " 'job': 7513,\n",
       " 'Tas': 3925,\n",
       " 'earn': 6220,\n",
       " 'ah': 4578,\n",
       " 'hi': 7113,\n",
       " 'stop': 10103,\n",
       " 'urgnt': 10779,\n",
       " 'real': 9223,\n",
       " 'yo': 11305,\n",
       " 'tickets': 10475,\n",
       " 'one': 8583,\n",
       " 'jacket': 7474,\n",
       " 'used': 10791,\n",
       " 'multis': 8304,\n",
       " 'started': 10051,\n",
       " 'requests': 9354,\n",
       " 'pain': 8697,\n",
       " 'came': 5300,\n",
       " 'bed': 4970,\n",
       " 'Double': 1697,\n",
       " 'coins': 5577,\n",
       " 'factory': 6448,\n",
       " 'gotta': 6907,\n",
       " 'cash': 5360,\n",
       " 'nitros': 8442,\n",
       " 'babe': 4882,\n",
       " 'Ela': 1770,\n",
       " 'kanoil': 7574,\n",
       " 'download': 6137,\n",
       " 'wen': 11025,\n",
       " 'Don‘t': 1694,\n",
       " 'stand': 10040,\n",
       " 'close': 5543,\n",
       " 'you‘ll': 11335,\n",
       " 'something': 9912,\n",
       " 'another': 4684,\n",
       " 'night': 8425,\n",
       " 'spent': 9987,\n",
       " 'late': 7706,\n",
       " 'afternoon': 4561,\n",
       " 'casualty': 5369,\n",
       " 'means': 8080,\n",
       " 'havent': 7048,\n",
       " 'stuff42moro': 10151,\n",
       " 'includes': 7333,\n",
       " 'sheets': 9696,\n",
       " 'Smile': 3711,\n",
       " 'Pleasure': 3234,\n",
       " 'trouble': 10641,\n",
       " 'pours': 8974,\n",
       " 'Rain': 3366,\n",
       " 'sum1': 10201,\n",
       " 'Hurts': 2287,\n",
       " 'becoz': 4968,\n",
       " 'SOMEONE': 3511,\n",
       " 'Loves': 2665,\n",
       " 'Smiling': 3713,\n",
       " 'service': 9658,\n",
       " 'representative': 9351,\n",
       " '0800': 50,\n",
       " '169': 382,\n",
       " '6031': 723,\n",
       " '10am9pm': 307,\n",
       " 'guaranteed': 6966,\n",
       " '£5000': 11396,\n",
       " 'Havent': 2192,\n",
       " 'planning': 8878,\n",
       " 'buy': 5245,\n",
       " 'lido': 7780,\n",
       " '530': 694,\n",
       " 'show': 9741,\n",
       " 'work': 11152,\n",
       " 'ringtone': 9426,\n",
       " 'collected': 5584,\n",
       " 'Simply': 3681,\n",
       " 'text': 10375,\n",
       " 'password': 8755,\n",
       " 'MIX': 2730,\n",
       " '85069': 853,\n",
       " 'verify': 10843,\n",
       " 'Get': 2045,\n",
       " 'Usher': 4138,\n",
       " 'Britney': 1312,\n",
       " 'FML': 1855,\n",
       " 'PO': 3134,\n",
       " 'Box': 1289,\n",
       " '5249': 691,\n",
       " 'MK17': 2731,\n",
       " '92H': 911,\n",
       " '450Ppw': 633,\n",
       " 'Watching': 4275,\n",
       " 'telugu': 10356,\n",
       " 'moviewat': 8272,\n",
       " 'abt': 4472,\n",
       " 'loads': 7847,\n",
       " 'loans': 7849,\n",
       " 'Hi': 2223,\n",
       " 'Wk': 4329,\n",
       " 'hols': 7154,\n",
       " 'run': 9489,\n",
       " 'Forgot': 1932,\n",
       " 'hairdressers': 7000,\n",
       " 'appointment': 4733,\n",
       " 'four': 6682,\n",
       " 'shower': 9743,\n",
       " 'beforehand': 4982,\n",
       " 'cause': 5376,\n",
       " 'prob': 9059,\n",
       " 'cup': 5805,\n",
       " 'coffee': 5572,\n",
       " 'animation': 4671,\n",
       " 'nothing': 8477,\n",
       " 'else': 6279,\n",
       " 'Okay': 3063,\n",
       " 'price': 9035,\n",
       " 'long': 7873,\n",
       " 'legal': 7748,\n",
       " 'Wen': 4293,\n",
       " 'ave': 4859,\n",
       " 'ams': 4655,\n",
       " 'xx': 11267,\n",
       " 'gone': 6885,\n",
       " '4the': 672,\n",
       " 'driving': 6168,\n",
       " 'test': 10371,\n",
       " 'yet': 11297,\n",
       " 'wow': 11181,\n",
       " 'Youre': 4441,\n",
       " 'mean': 8076,\n",
       " 'guess': 6970,\n",
       " 'gave': 6796,\n",
       " 'boston': 5123,\n",
       " 'men': 8112,\n",
       " 'changed': 5410,\n",
       " 'search': 9593,\n",
       " 'location': 7852,\n",
       " 'nyc': 8516,\n",
       " 'Cuz': 1557,\n",
       " 'signin': 9771,\n",
       " 'page': 8693,\n",
       " 'says': 9556,\n",
       " 'Umma': 4108,\n",
       " 'life': 7783,\n",
       " 'vava': 10833,\n",
       " 'umma': 10708,\n",
       " 'lot': 7894,\n",
       " 'dear': 5899,\n",
       " 'wishes': 11101,\n",
       " 'birthday': 5048,\n",
       " 'making': 8001,\n",
       " 'truly': 10648,\n",
       " 'memorable': 8109,\n",
       " 'Aight': 1028,\n",
       " 'hit': 7132,\n",
       " 'would': 11177,\n",
       " 'ip': 7415,\n",
       " 'address': 4522,\n",
       " 'considering': 5675,\n",
       " 'computer': 5639,\n",
       " 'isnt': 7437,\n",
       " 'minecraft': 8167,\n",
       " 'server': 9657,\n",
       " 'Grumpy': 2090,\n",
       " 'old': 8577,\n",
       " 'people': 8791,\n",
       " 'mom': 8229,\n",
       " 'better': 5017,\n",
       " 'lying': 7957,\n",
       " 'jokes': 7528,\n",
       " 'worry': 11168,\n",
       " 'busy': 5240,\n",
       " 'plural': 8902,\n",
       " 'noun': 8484,\n",
       " 'research': 9360,\n",
       " 'Going': 2064,\n",
       " 'dinnermsg': 6043,\n",
       " 'cos': 5724,\n",
       " 'things': 10429,\n",
       " 'scared': 9562,\n",
       " 'mah': 7987,\n",
       " 'Cos': 1520,\n",
       " 'loud': 7905,\n",
       " 'GENT': 1977,\n",
       " 'contact': 5680,\n",
       " 'Last': 2605,\n",
       " 'weekends': 11006,\n",
       " 'draw': 6147,\n",
       " 'shows': 9748,\n",
       " 'GUARANTEED': 2020,\n",
       " '09064012160': 236,\n",
       " 'Code': 1491,\n",
       " 'K52': 2467,\n",
       " '12hrs': 336,\n",
       " '150ppm': 368,\n",
       " 'Wa': 4250,\n",
       " 'openin': 8600,\n",
       " 'sentence': 9647,\n",
       " 'formal': 6666,\n",
       " 'Anyway': 1069,\n",
       " 'fine': 6562,\n",
       " 'juz': 7557,\n",
       " 'tt': 10658,\n",
       " 'eatin': 6233,\n",
       " 'puttin': 9140,\n",
       " 'weightHaha': 11013,\n",
       " 'anythin': 4704,\n",
       " 'happened': 7024,\n",
       " 'entered': 6318,\n",
       " 'cabin': 5260,\n",
       " 'PA': 3102,\n",
       " 'Happy': 2184,\n",
       " 'Bday': 1229,\n",
       " 'Boss': 1287,\n",
       " 'felt': 6523,\n",
       " 'askd': 4798,\n",
       " 'invited': 7408,\n",
       " 'apartment': 4713,\n",
       " 'went': 11027,\n",
       " 'winner': 11091,\n",
       " 'specially': 9974,\n",
       " 'holiday': 7150,\n",
       " 'flights': 6606,\n",
       " 'inc': 7328,\n",
       " 'operator': 8604,\n",
       " '0871277810910pmin': 123,\n",
       " '18': 385,\n",
       " 'Goodo': 2073,\n",
       " 'must': 8321,\n",
       " 'friday': 6709,\n",
       " 'eggpotato': 6258,\n",
       " 'ratio': 9200,\n",
       " 'tortilla': 10580,\n",
       " 'needed': 8385,\n",
       " 'Hmmmy': 2244,\n",
       " 'uncle': 10713,\n",
       " 'informed': 7355,\n",
       " 'paying': 8770,\n",
       " 'school': 9568,\n",
       " 'directly': 6047,\n",
       " 'pls': 8898,\n",
       " 'food': 6642,\n",
       " 'PRIVATE': 3164,\n",
       " '2004': 427,\n",
       " 'Account': 1001,\n",
       " 'Statement': 3774,\n",
       " '07742676969': 31,\n",
       " '786': 785,\n",
       " 'unredeemed': 10751,\n",
       " 'Points': 3249,\n",
       " '08719180248': 170,\n",
       " 'Identifier': 2346,\n",
       " '45239': 636,\n",
       " 'Expires': 1823,\n",
       " '£2000': 11381,\n",
       " 'Caller': 1417,\n",
       " '5903': 699,\n",
       " 'Landline': 2600,\n",
       " '09064019788': 242,\n",
       " 'BOX42WR29C': 1182,\n",
       " '150PPM': 353,\n",
       " 'applespairsall': 4727,\n",
       " 'malarky': 8003,\n",
       " 'Todays': 4010,\n",
       " 'Voda': 4177,\n",
       " 'numbers': 8507,\n",
       " 'ending': 6297,\n",
       " '7548': 780,\n",
       " '350': 564,\n",
       " 'award': 4870,\n",
       " 'match': 8043,\n",
       " 'please': 8891,\n",
       " '08712300220': 105,\n",
       " 'quoting': 9167,\n",
       " '4041': 608,\n",
       " 'standard': 10041,\n",
       " 'rates': 9198,\n",
       " 'app': 4721,\n",
       " 'sao': 9528,\n",
       " 'mu': 8295,\n",
       " 'Ü': 11412,\n",
       " 'predict': 9002,\n",
       " 'üll': 11416,\n",
       " 'buying': 5248,\n",
       " 'Good': 2068,\n",
       " 'knowyetunde': 7643,\n",
       " 'hasnt': 7039,\n",
       " 'sent': 9646,\n",
       " 'bother': 5125,\n",
       " 'sending': 9639,\n",
       " 'involve': 7412,\n",
       " 'shouldnt': 9735,\n",
       " 'imposed': 7318,\n",
       " 'apologise': 4718,\n",
       " 'HEY': 2129,\n",
       " 'GIRL': 1983,\n",
       " 'HOPE': 2147,\n",
       " 'WELL': 4205,\n",
       " 'DEL': 1577,\n",
       " 'BAK': 1131,\n",
       " 'LONG': 2573,\n",
       " 'TIME': 3881,\n",
       " 'GIVE': 1986,\n",
       " 'CALL': 1338,\n",
       " 'SUM': 3562,\n",
       " 'LUCYxx': 2593,\n",
       " 'Kkhow': 2519,\n",
       " 'cost': 5726,\n",
       " 'Dear': 1631,\n",
       " 'Tmorrowpls': 4003,\n",
       " 'accomodate': 4489,\n",
       " 'answer': 4687,\n",
       " 'question': 9153,\n",
       " 'Sunshine': 3815,\n",
       " 'Quiz': 3316,\n",
       " 'Wkly': 4330,\n",
       " 'Q': 3302,\n",
       " 'Win': 4318,\n",
       " 'top': 10571,\n",
       " 'Sony': 3730,\n",
       " 'DVD': 1611,\n",
       " 'player': 8883,\n",
       " 'country': 5741,\n",
       " 'Algarve': 1044,\n",
       " 'ansr': 4686,\n",
       " '82277': 824,\n",
       " 'SPTyrone': 3537,\n",
       " 'Want': 4265,\n",
       " 'laid': 7678,\n",
       " 'Dogging': 1685,\n",
       " 'locations': 7853,\n",
       " 'direct': 6046,\n",
       " 'mob': 8212,\n",
       " 'Join': 2445,\n",
       " 'UKs': 4075,\n",
       " 'largest': 7700,\n",
       " 'Network': 2961,\n",
       " 'bt': 5204,\n",
       " 'Txting': 4063,\n",
       " 'GRAVEL': 2016,\n",
       " '69888': 749,\n",
       " 'Nt': 3018,\n",
       " 'ec2a': 6236,\n",
       " '31pmsg150p': 557,\n",
       " 'haf': 6994,\n",
       " 'msn': 8290,\n",
       " 'yijuehotmailcom': 11303,\n",
       " 'rooms': 9461,\n",
       " 'befor': 4981,\n",
       " 'activities': 4512,\n",
       " 'Youll': 4440,\n",
       " 'msgs': 8283,\n",
       " 'chat': 5432,\n",
       " 'svc': 10249,\n",
       " 'Hardcore': 2186,\n",
       " 'services': 9659,\n",
       " 'GO': 1991,\n",
       " '69988': 753,\n",
       " 'Age': 1022,\n",
       " 'Verify': 4167,\n",
       " 'yr': 11338,\n",
       " 'Got': 2078,\n",
       " 'lazy': 7728,\n",
       " 'type': 10691,\n",
       " 'forgot': 6663,\n",
       " 'lect': 7742,\n",
       " 'pouch': 8969,\n",
       " 'youre': 11326,\n",
       " 'Sir': 3688,\n",
       " 'Waiting': 4257,\n",
       " 'mail': 7990,\n",
       " 'swt': 10270,\n",
       " 'Nver': 3023,\n",
       " 'tired': 10498,\n",
       " 'little': 7835,\n",
       " 'lovable': 7909,\n",
       " 'persons': 8814,\n",
       " 'Cozsomtimes': 1529,\n",
       " 'occupy': 8532,\n",
       " 'biggest': 5032,\n",
       " 'Hearts': 2200,\n",
       " 'Gud': 2094,\n",
       " 'ni8': 8418,\n",
       " 'open': 8597,\n",
       " 'ya': 11276,\n",
       " 'dot': 6130,\n",
       " 'Whats': 4302,\n",
       " 'staff': 10031,\n",
       " 'taking': 10297,\n",
       " 'replied': 9344,\n",
       " 'Randy': 3373,\n",
       " 'sexy': 9673,\n",
       " 'female': 6524,\n",
       " 'local': 7851,\n",
       " 'Luv': 2678,\n",
       " 'Netcollex': 2960,\n",
       " ...}"
      ]
     },
     "execution_count": 51,
     "metadata": {},
     "output_type": "execute_result"
    }
   ],
   "source": [
    "print(len(bow_transformer.vocabulary_))\n",
    "bow_transformer.vocabulary_"
   ]
  },
  {
   "cell_type": "markdown",
   "metadata": {
    "id": "dGQORcvolJ9p"
   },
   "source": [
    "Let's take one text message and get its bag-of-words counts as a vector, putting to use our new bow_transformer"
   ]
  },
  {
   "cell_type": "code",
   "execution_count": 52,
   "metadata": {
    "colab": {
     "base_uri": "https://localhost:8080/"
    },
    "id": "4N2sQzRQlJ9p",
    "outputId": "32f00588-b874-4aa6-f85f-66c7c3e9889b"
   },
   "outputs": [
    {
     "name": "stdout",
     "output_type": "stream",
     "text": [
      "U dun say so early hor... U c already then say...\n"
     ]
    }
   ],
   "source": [
    "message4 = df['Message'][3]\n",
    "print(message4)"
   ]
  },
  {
   "cell_type": "markdown",
   "metadata": {
    "id": "MvoYflgdlJ9p"
   },
   "source": [
    "Now let's see its vector representation"
   ]
  },
  {
   "cell_type": "code",
   "execution_count": 53,
   "metadata": {
    "colab": {
     "base_uri": "https://localhost:8080/"
    },
    "id": "7JZOwUaNlJ9p",
    "outputId": "52968a89-f491-492a-bff5-79f283dee000"
   },
   "outputs": [
    {
     "name": "stdout",
     "output_type": "stream",
     "text": [
      "  (0, 4066)\t2\n",
      "  (0, 4627)\t1\n",
      "  (0, 5258)\t1\n",
      "  (0, 6201)\t1\n",
      "  (0, 6219)\t1\n",
      "  (0, 7183)\t1\n",
      "  (0, 9551)\t2\n",
      "(1, 11422)\n"
     ]
    }
   ],
   "source": [
    "bow4 = bow_transformer.transform([message4])\n",
    "print(bow4)\n",
    "print(bow4.shape)"
   ]
  },
  {
   "cell_type": "markdown",
   "metadata": {
    "id": "qHhAB8bDlJ9p"
   },
   "source": [
    "Let's see which ones appear twice in our dataset"
   ]
  },
  {
   "cell_type": "markdown",
   "metadata": {
    "id": "C9YadoLwlJ9q"
   },
   "source": [
    "Now let's transform the entire DataFrame of messages and create sparse matrix"
   ]
  },
  {
   "cell_type": "code",
   "execution_count": 54,
   "metadata": {
    "id": "o5GzjO27lJ9q"
   },
   "outputs": [],
   "source": [
    "messages_bow = bow_transformer.transform(df['Message'])"
   ]
  },
  {
   "cell_type": "code",
   "execution_count": 55,
   "metadata": {
    "id": "PYwWNv36lJ9q"
   },
   "outputs": [
    {
     "name": "stdout",
     "output_type": "stream",
     "text": [
      "Shape of Sparse Matrix:  (5572, 11422)\n",
      "Amount of Non-Zero occurences:  50500\n"
     ]
    }
   ],
   "source": [
    "print('Shape of Sparse Matrix: ', messages_bow.shape)\n",
    "print('Amount of Non-Zero occurences: ', messages_bow.nnz)"
   ]
  },
  {
   "cell_type": "code",
   "execution_count": 56,
   "metadata": {
    "id": "bdsk5ASelJ9q"
   },
   "outputs": [
    {
     "name": "stdout",
     "output_type": "stream",
     "text": [
      "sparsity: 0.07934838914285262\n"
     ]
    }
   ],
   "source": [
    "sparsity = (100.0 * messages_bow.nnz / (messages_bow.shape[0] * messages_bow.shape[1]))\n",
    "print('sparsity: {}'.format((sparsity)))"
   ]
  },
  {
   "cell_type": "markdown",
   "metadata": {
    "id": "wn1JVK-OlJ9q"
   },
   "source": [
    "# **TF-IDF**"
   ]
  },
  {
   "cell_type": "markdown",
   "metadata": {
    "id": "bsV0SbU_lJ9q"
   },
   "source": [
    "Now let's compute term weighting and do normalisation with TF-IDF"
   ]
  },
  {
   "cell_type": "code",
   "execution_count": 57,
   "metadata": {
    "id": "dc2a8sNblJ9q"
   },
   "outputs": [
    {
     "name": "stdout",
     "output_type": "stream",
     "text": [
      "  (0, 11160)\t0.23026685592418913\n",
      "  (0, 10962)\t0.19073428545061483\n",
      "  (0, 8914)\t0.24704652376837993\n",
      "  (0, 8333)\t0.17046869292195632\n",
      "  (0, 7665)\t0.26403384065473806\n",
      "  (0, 7552)\t0.31253856260694546\n",
      "  (0, 6934)\t0.1834692413608692\n",
      "  (0, 6903)\t0.15158474664662352\n",
      "  (0, 6214)\t0.18915557732842803\n",
      "  (0, 5766)\t0.24984711892976424\n",
      "  (0, 5215)\t0.26870593862526665\n",
      "  (0, 5214)\t0.29835184088197164\n",
      "  (0, 4651)\t0.31253856260694546\n",
      "  (0, 2058)\t0.24203960256420656\n",
      "  (0, 1480)\t0.31253856260694546\n",
      "  (0, 1107)\t0.2882862016308418\n",
      "  (1, 11069)\t0.40059731892909933\n",
      "  (1, 10695)\t0.20657545787061052\n",
      "  (1, 8587)\t0.5043175634668231\n",
      "  (1, 7698)\t0.3767229062690876\n",
      "  (1, 3062)\t0.2911862458354422\n",
      "  (1, 2449)\t0.5619631532224204\n",
      "  (2, 11120)\t0.19104387220509106\n",
      "  (2, 11081)\t0.15898145347176754\n",
      "  (2, 10683)\t0.13995540820792943\n",
      "  :\t:\n",
      "  (5568, 6879)\t0.31367469776242124\n",
      "  (5568, 6688)\t0.47781076401785183\n",
      "  (5568, 6351)\t0.5575721048646767\n",
      "  (5568, 4878)\t0.3853122086093004\n",
      "  (5569, 10196)\t0.520467167163554\n",
      "  (5569, 8249)\t0.4328299709057074\n",
      "  (5569, 3719)\t0.520467167163554\n",
      "  (5569, 3226)\t0.520467167163554\n",
      "  (5570, 11003)\t0.20434525994453323\n",
      "  (5570, 10784)\t0.22867843486502568\n",
      "  (5570, 9912)\t0.22380228376189748\n",
      "  (5570, 8417)\t0.22651675757217207\n",
      "  (5570, 7797)\t0.17243888184764117\n",
      "  (5570, 7391)\t0.3071475234812021\n",
      "  (5570, 7284)\t0.26786677935500575\n",
      "  (5570, 6981)\t0.2641640440122445\n",
      "  (5570, 6796)\t0.294185812624235\n",
      "  (5570, 6696)\t0.2008376534326777\n",
      "  (5570, 6279)\t0.2607702439080329\n",
      "  (5570, 5248)\t0.302353515740512\n",
      "  (5570, 5052)\t0.36357250744470165\n",
      "  (5570, 4506)\t0.3470692575834817\n",
      "  (5571, 10645)\t0.539218119882165\n",
      "  (5571, 8345)\t0.48542915408134024\n",
      "  (5571, 3429)\t0.6881877327870772\n"
     ]
    }
   ],
   "source": [
    "from sklearn.feature_extraction.text import TfidfTransformer\n",
    "tfidf_transformer = TfidfTransformer().fit(messages_bow)\n",
    "tfidf4 = tfidf_transformer.transform(messages_bow)\n",
    "print(tfidf4)"
   ]
  },
  {
   "cell_type": "markdown",
   "metadata": {
    "id": "slIKaLfSlJ9r"
   },
   "source": [
    "# **Training a Random Forest model**"
   ]
  },
  {
   "cell_type": "code",
   "execution_count": 58,
   "metadata": {
    "id": "lm2odEyAlJ9r"
   },
   "outputs": [
    {
     "data": {
      "text/html": [
       "<style>#sk-container-id-3 {color: black;background-color: white;}#sk-container-id-3 pre{padding: 0;}#sk-container-id-3 div.sk-toggleable {background-color: white;}#sk-container-id-3 label.sk-toggleable__label {cursor: pointer;display: block;width: 100%;margin-bottom: 0;padding: 0.3em;box-sizing: border-box;text-align: center;}#sk-container-id-3 label.sk-toggleable__label-arrow:before {content: \"▸\";float: left;margin-right: 0.25em;color: #696969;}#sk-container-id-3 label.sk-toggleable__label-arrow:hover:before {color: black;}#sk-container-id-3 div.sk-estimator:hover label.sk-toggleable__label-arrow:before {color: black;}#sk-container-id-3 div.sk-toggleable__content {max-height: 0;max-width: 0;overflow: hidden;text-align: left;background-color: #f0f8ff;}#sk-container-id-3 div.sk-toggleable__content pre {margin: 0.2em;color: black;border-radius: 0.25em;background-color: #f0f8ff;}#sk-container-id-3 input.sk-toggleable__control:checked~div.sk-toggleable__content {max-height: 200px;max-width: 100%;overflow: auto;}#sk-container-id-3 input.sk-toggleable__control:checked~label.sk-toggleable__label-arrow:before {content: \"▾\";}#sk-container-id-3 div.sk-estimator input.sk-toggleable__control:checked~label.sk-toggleable__label {background-color: #d4ebff;}#sk-container-id-3 div.sk-label input.sk-toggleable__control:checked~label.sk-toggleable__label {background-color: #d4ebff;}#sk-container-id-3 input.sk-hidden--visually {border: 0;clip: rect(1px 1px 1px 1px);clip: rect(1px, 1px, 1px, 1px);height: 1px;margin: -1px;overflow: hidden;padding: 0;position: absolute;width: 1px;}#sk-container-id-3 div.sk-estimator {font-family: monospace;background-color: #f0f8ff;border: 1px dotted black;border-radius: 0.25em;box-sizing: border-box;margin-bottom: 0.5em;}#sk-container-id-3 div.sk-estimator:hover {background-color: #d4ebff;}#sk-container-id-3 div.sk-parallel-item::after {content: \"\";width: 100%;border-bottom: 1px solid gray;flex-grow: 1;}#sk-container-id-3 div.sk-label:hover label.sk-toggleable__label {background-color: #d4ebff;}#sk-container-id-3 div.sk-serial::before {content: \"\";position: absolute;border-left: 1px solid gray;box-sizing: border-box;top: 0;bottom: 0;left: 50%;z-index: 0;}#sk-container-id-3 div.sk-serial {display: flex;flex-direction: column;align-items: center;background-color: white;padding-right: 0.2em;padding-left: 0.2em;position: relative;}#sk-container-id-3 div.sk-item {position: relative;z-index: 1;}#sk-container-id-3 div.sk-parallel {display: flex;align-items: stretch;justify-content: center;background-color: white;position: relative;}#sk-container-id-3 div.sk-item::before, #sk-container-id-3 div.sk-parallel-item::before {content: \"\";position: absolute;border-left: 1px solid gray;box-sizing: border-box;top: 0;bottom: 0;left: 50%;z-index: -1;}#sk-container-id-3 div.sk-parallel-item {display: flex;flex-direction: column;z-index: 1;position: relative;background-color: white;}#sk-container-id-3 div.sk-parallel-item:first-child::after {align-self: flex-end;width: 50%;}#sk-container-id-3 div.sk-parallel-item:last-child::after {align-self: flex-start;width: 50%;}#sk-container-id-3 div.sk-parallel-item:only-child::after {width: 0;}#sk-container-id-3 div.sk-dashed-wrapped {border: 1px dashed gray;margin: 0 0.4em 0.5em 0.4em;box-sizing: border-box;padding-bottom: 0.4em;background-color: white;}#sk-container-id-3 div.sk-label label {font-family: monospace;font-weight: bold;display: inline-block;line-height: 1.2em;}#sk-container-id-3 div.sk-label-container {text-align: center;}#sk-container-id-3 div.sk-container {/* jupyter's `normalize.less` sets `[hidden] { display: none; }` but bootstrap.min.css set `[hidden] { display: none !important; }` so we also need the `!important` here to be able to override the default hidden behavior on the sphinx rendered scikit-learn.org. See: https://github.com/scikit-learn/scikit-learn/issues/21755 */display: inline-block !important;position: relative;}#sk-container-id-3 div.sk-text-repr-fallback {display: none;}</style><div id=\"sk-container-id-3\" class=\"sk-top-container\"><div class=\"sk-text-repr-fallback\"><pre>RandomForestClassifier(criterion=&#x27;entropy&#x27;, n_estimators=10, random_state=0)</pre><b>In a Jupyter environment, please rerun this cell to show the HTML representation or trust the notebook. <br />On GitHub, the HTML representation is unable to render, please try loading this page with nbviewer.org.</b></div><div class=\"sk-container\" hidden><div class=\"sk-item\"><div class=\"sk-estimator sk-toggleable\"><input class=\"sk-toggleable__control sk-hidden--visually\" id=\"sk-estimator-id-6\" type=\"checkbox\" checked><label for=\"sk-estimator-id-6\" class=\"sk-toggleable__label sk-toggleable__label-arrow\">RandomForestClassifier</label><div class=\"sk-toggleable__content\"><pre>RandomForestClassifier(criterion=&#x27;entropy&#x27;, n_estimators=10, random_state=0)</pre></div></div></div></div></div>"
      ],
      "text/plain": [
       "RandomForestClassifier(criterion='entropy', n_estimators=10, random_state=0)"
      ]
     },
     "execution_count": 58,
     "metadata": {},
     "output_type": "execute_result"
    }
   ],
   "source": [
    "from sklearn.ensemble import RandomForestClassifier\n",
    "classifier = RandomForestClassifier(n_estimators=10, criterion='entropy',random_state=0)\n",
    "classifier.fit(tfidf4, df['Category'])"
   ]
  },
  {
   "cell_type": "markdown",
   "metadata": {
    "id": "ZRgWUdOslJ9r"
   },
   "source": [
    "Let's try classifying our single random message and checking how we do:"
   ]
  },
  {
   "cell_type": "code",
   "execution_count": 59,
   "metadata": {
    "id": "QI44IVR4lJ9r"
   },
   "outputs": [
    {
     "name": "stdout",
     "output_type": "stream",
     "text": [
      "predicted: ham\n",
      "expected: ham\n"
     ]
    }
   ],
   "source": [
    "print('predicted:', classifier.predict(tfidf4)[0])\n",
    "print('expected:', df.Category[3])"
   ]
  },
  {
   "cell_type": "markdown",
   "metadata": {
    "id": "k0K18gtglJ9r"
   },
   "source": [
    "**Model Evaluation**"
   ]
  },
  {
   "cell_type": "markdown",
   "metadata": {
    "id": "Sx8bCD5AlJ9r"
   },
   "source": [
    "Let's check out the accuracy of our model in entire dataset"
   ]
  },
  {
   "cell_type": "code",
   "execution_count": 60,
   "metadata": {
    "id": "gow_i7smlJ9r"
   },
   "outputs": [
    {
     "name": "stdout",
     "output_type": "stream",
     "text": [
      "['ham' 'ham' 'spam' ... 'ham' 'ham' 'ham']\n"
     ]
    }
   ],
   "source": [
    "all_predictions = classifier.predict(messages_bow)\n",
    "print(all_predictions)"
   ]
  },
  {
   "cell_type": "markdown",
   "metadata": {
    "id": "cIuHQqj1lJ9r"
   },
   "source": [
    "Let's create classification report"
   ]
  },
  {
   "cell_type": "code",
   "execution_count": 61,
   "metadata": {
    "id": "9QTbdQkvlJ9r"
   },
   "outputs": [
    {
     "name": "stdout",
     "output_type": "stream",
     "text": [
      "              precision    recall  f1-score   support\n",
      "\n",
      "         ham       0.99      1.00      1.00      4825\n",
      "        spam       1.00      0.96      0.98       747\n",
      "\n",
      "    accuracy                           0.99      5572\n",
      "   macro avg       1.00      0.98      0.99      5572\n",
      "weighted avg       0.99      0.99      0.99      5572\n",
      "\n"
     ]
    }
   ],
   "source": [
    "from sklearn.metrics import classification_report\n",
    "print (classification_report(df['Category'], all_predictions))"
   ]
  },
  {
   "cell_type": "code",
   "execution_count": 62,
   "metadata": {
    "id": "y6qU5IHRlJ9s"
   },
   "outputs": [
    {
     "name": "stdout",
     "output_type": "stream",
     "text": [
      "Accuracy: 0.9940775305096913\n"
     ]
    }
   ],
   "source": [
    "from sklearn import metrics\n",
    "print(\"Accuracy:\",metrics.accuracy_score(df['Category'], all_predictions))"
   ]
  },
  {
   "cell_type": "markdown",
   "metadata": {
    "id": "Y7ftbFfWlJ9s"
   },
   "source": [
    "In the above evaluation, we evaluated accuracy on the same data we used for training. You should never actually evaluate on the same dataset you train on! the proper way is to split the data into a training set and test set,"
   ]
  },
  {
   "cell_type": "markdown",
   "metadata": {
    "id": "EPMhQPrWlJ9s"
   },
   "source": [
    "**Train Test Split**"
   ]
  },
  {
   "cell_type": "code",
   "execution_count": 63,
   "metadata": {
    "id": "KxEdmsSblJ9s"
   },
   "outputs": [
    {
     "name": "stdout",
     "output_type": "stream",
     "text": [
      "4457 1115 5572\n"
     ]
    }
   ],
   "source": [
    "from sklearn.model_selection import train_test_split\n",
    "\n",
    "msg_train, msg_test, label_train, label_test = \\\n",
    "train_test_split(df['Message'], df['Category'], test_size=0.2)\n",
    "\n",
    "print(len(msg_train), len(msg_test), len(msg_train) + len(msg_test))"
   ]
  },
  {
   "cell_type": "markdown",
   "metadata": {
    "id": "Mx-eGRKLlJ9s"
   },
   "source": [
    "**Creating a Data Pipeline**"
   ]
  },
  {
   "cell_type": "markdown",
   "metadata": {
    "id": "YZlcSYxllJ9s"
   },
   "source": [
    "Let's run our model again and then predict the test set. We will create and use a pipeline for this purpose"
   ]
  },
  {
   "cell_type": "code",
   "execution_count": 64,
   "metadata": {
    "id": "3kWZMv87lJ9s"
   },
   "outputs": [
    {
     "ename": "ImportError",
     "evalue": "cannot import name 'SVC' from 'sklearn.feature_extraction' (C:\\Anaconda\\lib\\site-packages\\sklearn\\feature_extraction\\__init__.py)",
     "output_type": "error",
     "traceback": [
      "\u001b[1;31m---------------------------------------------------------------------------\u001b[0m",
      "\u001b[1;31mImportError\u001b[0m                               Traceback (most recent call last)",
      "\u001b[1;32m~\\AppData\\Local\\Temp\\ipykernel_1656\\476311997.py\u001b[0m in \u001b[0;36m<module>\u001b[1;34m\u001b[0m\n\u001b[0;32m      1\u001b[0m \u001b[1;32mfrom\u001b[0m \u001b[0msklearn\u001b[0m\u001b[1;33m.\u001b[0m\u001b[0mpipeline\u001b[0m \u001b[1;32mimport\u001b[0m \u001b[0mPipeline\u001b[0m\u001b[1;33m\u001b[0m\u001b[1;33m\u001b[0m\u001b[0m\n\u001b[1;32m----> 2\u001b[1;33m \u001b[1;32mfrom\u001b[0m \u001b[0msklearn\u001b[0m\u001b[1;33m.\u001b[0m\u001b[0mfeature_extraction\u001b[0m \u001b[1;32mimport\u001b[0m \u001b[0mSVC\u001b[0m\u001b[1;33m\u001b[0m\u001b[1;33m\u001b[0m\u001b[0m\n\u001b[0m\u001b[0;32m      3\u001b[0m pipeline = Pipeline([\n\u001b[0;32m      4\u001b[0m     \u001b[1;33m(\u001b[0m\u001b[1;34m'bow'\u001b[0m\u001b[1;33m,\u001b[0m \u001b[0mCountVectorizer\u001b[0m\u001b[1;33m(\u001b[0m\u001b[0manalyzer\u001b[0m\u001b[1;33m=\u001b[0m\u001b[0mtext_process\u001b[0m\u001b[1;33m)\u001b[0m\u001b[1;33m)\u001b[0m\u001b[1;33m,\u001b[0m  \u001b[1;31m# strings to token integer counts\u001b[0m\u001b[1;33m\u001b[0m\u001b[1;33m\u001b[0m\u001b[0m\n\u001b[0;32m      5\u001b[0m     \u001b[1;33m(\u001b[0m\u001b[1;34m'tfidf'\u001b[0m\u001b[1;33m,\u001b[0m \u001b[0mTfidfTransformer\u001b[0m\u001b[1;33m(\u001b[0m\u001b[1;33m)\u001b[0m\u001b[1;33m)\u001b[0m\u001b[1;33m,\u001b[0m  \u001b[1;31m# integer counts to weighted TF-IDF scores\u001b[0m\u001b[1;33m\u001b[0m\u001b[1;33m\u001b[0m\u001b[0m\n",
      "\u001b[1;31mImportError\u001b[0m: cannot import name 'SVC' from 'sklearn.feature_extraction' (C:\\Anaconda\\lib\\site-packages\\sklearn\\feature_extraction\\__init__.py)"
     ]
    }
   ],
   "source": [
    "from sklearn.pipeline import Pipeline\n",
    "from sklearn.svm import SVC\n",
    "pipeline = Pipeline([\n",
    "    ('bow', CountVectorizer(analyzer=text_process)),  # strings to token integer counts\n",
    "    ('tfidf', TfidfTransformer()),  # integer counts to weighted TF-IDF scores\n",
    "    ('classifier', SVC()),  # train on TF-IDF vectors w/ SVM\n",
    "])"
   ]
  },
  {
   "cell_type": "code",
   "execution_count": null,
   "metadata": {
    "id": "1Mb0uqYnlJ9s"
   },
   "outputs": [],
   "source": [
    "pipeline.fit(msg_train,label_train)"
   ]
  },
  {
   "cell_type": "code",
   "execution_count": null,
   "metadata": {
    "id": "0M4Kp0dMlJ9s"
   },
   "outputs": [],
   "source": [
    "predictions = pipeline.predict(msg_test)"
   ]
  },
  {
   "cell_type": "markdown",
   "metadata": {
    "id": "oA56sAtQlJ9s"
   },
   "source": [
    "# **Making Confusion Matrix**"
   ]
  },
  {
   "cell_type": "markdown",
   "metadata": {
    "id": "wtus9uuylJ9t"
   },
   "source": [
    "Confusion Matrix is going to contain the correct predictions that our model made on the set as well as the incorrect predictions."
   ]
  },
  {
   "cell_type": "code",
   "execution_count": null,
   "metadata": {
    "id": "ygYWN4MPlJ9t"
   },
   "outputs": [],
   "source": [
    "from sklearn.metrics import confusion_matrix,classification_report\n",
    "cm = confusion_matrix(label_test,predictions)\n",
    "class_names=[0,1] # name  of classes\n",
    "fig, ax = plt.subplots()\n",
    "tick_marks = np.arange(len(class_names))\n",
    "plt.xticks(tick_marks, class_names)\n",
    "plt.yticks(tick_marks, class_names)\n",
    "\n",
    "# create heatmap\n",
    "sns.heatmap(pd.DataFrame(cm), annot=True, cmap=\"BuPu\" ,fmt='g')\n",
    "ax.xaxis.set_label_position(\"top\")\n",
    "plt.tight_layout()\n",
    "plt.title('Confusion matrix', y=1.1)\n",
    "plt.ylabel('Actual label')\n",
    "plt.xlabel('Predicted label')\n",
    "plt.show()"
   ]
  },
  {
   "cell_type": "markdown",
   "metadata": {
    "id": "bcxG7l5hlJ9t"
   },
   "source": [
    "Create classification report"
   ]
  },
  {
   "cell_type": "code",
   "execution_count": null,
   "metadata": {
    "id": "2E8aeik-lJ9t"
   },
   "outputs": [],
   "source": [
    "print(classification_report(predictions,label_test))"
   ]
  },
  {
   "cell_type": "code",
   "execution_count": null,
   "metadata": {
    "id": "XYCCPjhPlJ9t"
   },
   "outputs": [],
   "source": [
    "from sklearn import metrics\n",
    "print(\"Accuracy:\",metrics.accuracy_score(predictions,label_test))"
   ]
  },
  {
   "cell_type": "code",
   "execution_count": 65,
   "metadata": {},
   "outputs": [
    {
     "name": "stderr",
     "output_type": "stream",
     "text": [
      "[nltk_data] Downloading package stopwords to\n",
      "[nltk_data]     C:\\Users\\vs\\AppData\\Roaming\\nltk_data...\n",
      "[nltk_data]   Package stopwords is already up-to-date!\n"
     ]
    },
    {
     "name": "stdout",
     "output_type": "stream",
     "text": [
      "<class 'pandas.core.frame.DataFrame'>\n",
      "RangeIndex: 5572 entries, 0 to 5571\n",
      "Data columns (total 2 columns):\n",
      " #   Column    Non-Null Count  Dtype \n",
      "---  ------    --------------  ----- \n",
      " 0   Category  5572 non-null   object\n",
      " 1   Message   5572 non-null   object\n",
      "dtypes: object(2)\n",
      "memory usage: 87.2+ KB\n"
     ]
    },
    {
     "data": {
      "image/png": "[encoded data removed]",
      "text/plain": [
       "<Figure size 1200x700 with 1 Axes>"
      ]
     },
     "metadata": {},
     "output_type": "display_data"
    },
    {
     "name": "stdout",
     "output_type": "stream",
     "text": [
      "11422\n",
      "U dun say so early hor... U c already then say...\n",
      "  (0, 4066)\t2\n",
      "  (0, 4627)\t1\n",
      "  (0, 5258)\t1\n",
      "  (0, 6201)\t1\n",
      "  (0, 6219)\t1\n",
      "  (0, 7183)\t1\n",
      "  (0, 9551)\t2\n",
      "(1, 11422)\n",
      "Shape of Sparse Matrix:  (5572, 11422)\n",
      "Amount of Non-Zero occurences:  50500\n",
      "sparsity: 0.07934838914285262\n",
      "  (0, 11160)\t0.23026685592418913\n",
      "  (0, 10962)\t0.19073428545061483\n",
      "  (0, 8914)\t0.24704652376837993\n",
      "  (0, 8333)\t0.17046869292195632\n",
      "  (0, 7665)\t0.26403384065473806\n",
      "  (0, 7552)\t0.31253856260694546\n",
      "  (0, 6934)\t0.1834692413608692\n",
      "  (0, 6903)\t0.15158474664662352\n",
      "  (0, 6214)\t0.18915557732842803\n",
      "  (0, 5766)\t0.24984711892976424\n",
      "  (0, 5215)\t0.26870593862526665\n",
      "  (0, 5214)\t0.29835184088197164\n",
      "  (0, 4651)\t0.31253856260694546\n",
      "  (0, 2058)\t0.24203960256420656\n",
      "  (0, 1480)\t0.31253856260694546\n",
      "  (0, 1107)\t0.2882862016308418\n",
      "  (1, 11069)\t0.40059731892909933\n",
      "  (1, 10695)\t0.20657545787061052\n",
      "  (1, 8587)\t0.5043175634668231\n",
      "  (1, 7698)\t0.3767229062690876\n",
      "  (1, 3062)\t0.2911862458354422\n",
      "  (1, 2449)\t0.5619631532224204\n",
      "  (2, 11120)\t0.19104387220509106\n",
      "  (2, 11081)\t0.15898145347176754\n",
      "  (2, 10683)\t0.13995540820792943\n",
      "  :\t:\n",
      "  (5568, 6879)\t0.31367469776242124\n",
      "  (5568, 6688)\t0.47781076401785183\n",
      "  (5568, 6351)\t0.5575721048646767\n",
      "  (5568, 4878)\t0.3853122086093004\n",
      "  (5569, 10196)\t0.520467167163554\n",
      "  (5569, 8249)\t0.4328299709057074\n",
      "  (5569, 3719)\t0.520467167163554\n",
      "  (5569, 3226)\t0.520467167163554\n",
      "  (5570, 11003)\t0.20434525994453323\n",
      "  (5570, 10784)\t0.22867843486502568\n",
      "  (5570, 9912)\t0.22380228376189748\n",
      "  (5570, 8417)\t0.22651675757217207\n",
      "  (5570, 7797)\t0.17243888184764117\n",
      "  (5570, 7391)\t0.3071475234812021\n",
      "  (5570, 7284)\t0.26786677935500575\n",
      "  (5570, 6981)\t0.2641640440122445\n",
      "  (5570, 6796)\t0.294185812624235\n",
      "  (5570, 6696)\t0.2008376534326777\n",
      "  (5570, 6279)\t0.2607702439080329\n",
      "  (5570, 5248)\t0.302353515740512\n",
      "  (5570, 5052)\t0.36357250744470165\n",
      "  (5570, 4506)\t0.3470692575834817\n",
      "  (5571, 10645)\t0.539218119882165\n",
      "  (5571, 8345)\t0.48542915408134024\n",
      "  (5571, 3429)\t0.6881877327870772\n",
      "predicted: ham\n",
      "expected: ham\n",
      "['ham' 'ham' 'spam' ... 'ham' 'ham' 'ham']\n",
      "              precision    recall  f1-score   support\n",
      "\n",
      "         ham       0.99      1.00      1.00      4825\n",
      "        spam       1.00      0.96      0.98       747\n",
      "\n",
      "    accuracy                           0.99      5572\n",
      "   macro avg       1.00      0.98      0.99      5572\n",
      "weighted avg       0.99      0.99      0.99      5572\n",
      "\n",
      "Accuracy: 0.9940775305096913\n",
      "4457 1115 5572\n"
     ]
    },
    {
     "data": {
      "image/png": "[encoded data removed]",
      "text/plain": [
       "<Figure size 1000x600 with 1 Axes>"
      ]
     },
     "metadata": {},
     "output_type": "display_data"
    },
    {
     "data": {
      "image/png": "[encoded data removed]",
      "text/plain": [
       "<Figure size 640x480 with 2 Axes>"
      ]
     },
     "metadata": {},
     "output_type": "display_data"
    },
    {
     "name": "stdout",
     "output_type": "stream",
     "text": [
      "              precision    recall  f1-score   support\n",
      "\n",
      "         ham       1.00      0.97      0.98      1003\n",
      "        spam       0.79      1.00      0.88       112\n",
      "\n",
      "    accuracy                           0.97      1115\n",
      "   macro avg       0.89      0.99      0.93      1115\n",
      "weighted avg       0.98      0.97      0.97      1115\n",
      "\n",
      "Accuracy: 0.9730941704035875\n"
     ]
    }
   ],
   "source": [
    "import numpy as np\n",
    "import pandas as pd\n",
    "import matplotlib.pyplot as plt\n",
    "import seaborn as sns\n",
    "%matplotlib inline\n",
    "plt.style.use('seaborn-deep')\n",
    "from sklearn.metrics import confusion_matrix\n",
    "import nltk\n",
    "nltk.download('stopwords')\n",
    "\n",
    "df = pd.read_csv('SPAM text message 20170820 - Data.csv')\n",
    "df.head()\n",
    "df.info()\n",
    "df.groupby('Category').describe()\n",
    "df['Length'] = df['Message'].apply(len)\n",
    "df.head()\n",
    "explode = (0.1,0)  \n",
    "fig1, ax1 = plt.subplots(figsize=(12,7))\n",
    "ax1.pie(df['Category'].value_counts(), explode=explode,labels=['ham','spam'], autopct='%1.1f%%',\n",
    "        shadow=True)\n",
    "# Equal aspect ratio ensures that pie is drawn as a circle\n",
    "ax1.axis('equal')  \n",
    "plt.tight_layout()\n",
    "plt.legend()\n",
    "plt.show()\n",
    "\n",
    "plt.figure(figsize=(10,6))\n",
    "df['Length'].plot.hist(bins = 150)\n",
    "df['Length'].describe()\n",
    "\n",
    "df[df['Length'] == 910][\"Message\"].iloc[0]\n",
    "import string\n",
    "from nltk.corpus import stopwords\n",
    "\n",
    "def text_process(mess):\n",
    "    \"\"\"\n",
    "    Takes in a string of text, then performs the following:\n",
    "    1. Remove all punctuation\n",
    "    2. Remove all stopwords\n",
    "    3. Returns a list of the cleaned text\n",
    "    \"\"\"\n",
    "   \n",
    "    # Check characters to see if they are in punctuation\n",
    "    nopunc = [char for char in mess if char not in string.punctuation]\n",
    "    \n",
    "    \n",
    "    # Join the characters again to form the string.\n",
    "    nopunc = ''.join(nopunc)\n",
    "    \n",
    "    \n",
    "    # Now just remove any stopwords\n",
    "    return [word for word in nopunc.split() if word.lower() not in stopwords.words('english')]\n",
    "df['Message'].apply(text_process)\n",
    "\n",
    "from sklearn.feature_extraction.text import CountVectorizer \n",
    "bow_transformer = CountVectorizer(analyzer=text_process).fit(df['Message'])\n",
    "\n",
    "print(len(bow_transformer.vocabulary_))\n",
    "bow_transformer.vocabulary_\n",
    "\n",
    "message4 = df['Message'][3]\n",
    "print(message4)\n",
    "\n",
    "bow4 = bow_transformer.transform([message4])\n",
    "print(bow4)\n",
    "print(bow4.shape)\n",
    "\n",
    "messages_bow = bow_transformer.transform(df['Message'])\n",
    "\n",
    "print('Shape of Sparse Matrix: ', messages_bow.shape)\n",
    "print('Amount of Non-Zero occurences: ', messages_bow.nnz)\n",
    "\n",
    "sparsity = (100.0 * messages_bow.nnz / (messages_bow.shape[0] * messages_bow.shape[1]))\n",
    "print('sparsity: {}'.format((sparsity)))\n",
    "\n",
    "from sklearn.feature_extraction.text import TfidfTransformer\n",
    "tfidf_transformer = TfidfTransformer().fit(messages_bow)\n",
    "tfidf4 = tfidf_transformer.transform(messages_bow)\n",
    "print(tfidf4)\n",
    "\n",
    "from sklearn.ensemble import RandomForestClassifier\n",
    "classifier = RandomForestClassifier(n_estimators=10, criterion='entropy',random_state=0)\n",
    "classifier.fit(tfidf4, df['Category'])\n",
    "\n",
    "print('predicted:', classifier.predict(tfidf4)[0])\n",
    "print('expected:', df.Category[3])\n",
    "\n",
    "all_predictions = classifier.predict(messages_bow)\n",
    "print(all_predictions)\n",
    "\n",
    "from sklearn.metrics import classification_report\n",
    "print (classification_report(df['Category'], all_predictions))\n",
    "\n",
    "from sklearn import metrics\n",
    "print(\"Accuracy:\",metrics.accuracy_score(df['Category'], all_predictions))\n",
    "\n",
    "from sklearn.model_selection import train_test_split\n",
    "\n",
    "msg_train, msg_test, label_train, label_test = \\\n",
    "train_test_split(df['Message'], df['Category'], test_size=0.2)\n",
    "\n",
    "print(len(msg_train), len(msg_test), len(msg_train) + len(msg_test))\n",
    "\n",
    "from sklearn.pipeline import Pipeline\n",
    "from sklearn.svm import SVC\n",
    "pipeline = Pipeline([\n",
    "    ('bow', CountVectorizer(analyzer=text_process)),  # strings to token integer counts\n",
    "    ('tfidf', TfidfTransformer()),  # integer counts to weighted TF-IDF scores\n",
    "    ('classifier', SVC()),  # train on TF-IDF vectors w/ SVM\n",
    "])\n",
    "\n",
    "pipeline.fit(msg_train,label_train)\n",
    "predictions = pipeline.predict(msg_test)\n",
    "\n",
    "from sklearn.metrics import confusion_matrix,classification_report\n",
    "cm = confusion_matrix(label_test,predictions)\n",
    "class_names=[0,1] # name  of classes\n",
    "fig, ax = plt.subplots()\n",
    "tick_marks = np.arange(len(class_names))\n",
    "plt.xticks(tick_marks, class_names)\n",
    "plt.yticks(tick_marks, class_names)\n",
    "\n",
    "# create heatmap\n",
    "sns.heatmap(pd.DataFrame(cm), annot=True, cmap=\"BuPu\" ,fmt='g')\n",
    "ax.xaxis.set_label_position(\"top\")\n",
    "plt.tight_layout()\n",
    "plt.title('Confusion matrix', y=1.1)\n",
    "plt.ylabel('Actual label')\n",
    "plt.xlabel('Predicted label')\n",
    "plt.show()\n",
    "\n",
    "print(classification_report(predictions,label_test))\n",
    "from sklearn import metrics\n",
    "print(\"Accuracy:\",metrics.accuracy_score(predictions,label_test))"
   ]
  },
  {
   "cell_type": "code",
   "execution_count": null,
   "metadata": {},
   "outputs": [],
   "source": []
  }
 ],
 "metadata": {
  "colab": {
   "provenance": []
  },
  "kernelspec": {
   "display_name": "Python 3 (ipykernel)",
   "language": "python",
   "name": "python3"
  },
  "language_info": {
   "codemirror_mode": {
    "name": "ipython",
    "version": 3
   },
   "file_extension": ".py",
   "mimetype": "text/x-python",
   "name": "python",
   "nbconvert_exporter": "python",
   "pygments_lexer": "ipython3",
   "version": "3.10.9"
  }
 },
 "nbformat": 4,
 "nbformat_minor": 4
}
